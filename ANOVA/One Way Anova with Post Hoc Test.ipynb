{
 "cells": [
  {
   "cell_type": "markdown",
   "metadata": {},
   "source": [
    "# One Way Anova : One Factor With Post Hoc Test"
   ]
  },
  {
   "cell_type": "markdown",
   "metadata": {},
   "source": [
    "# Problem Statement"
   ]
  },
  {
   "cell_type": "markdown",
   "metadata": {},
   "source": [
    "We are here considering 4 water plan treatment given to potatos of 12 sample. and we got some weights.\n",
    "We wants to know that whether we the different treatment plant has any effect on patatos or not\n",
    " \n",
    "Say we have the following table:\n",
    " \n",
    "<table>\n",
    "    <tr>\n",
    "        <th>Sr No</th>\n",
    "        <th>Watering Plan 1</th>\n",
    "        <th>Watering Plan 2</th>\n",
    "        <th>Watering Plan 3</th>\n",
    "        <th>Watering Plan 4</th>\n",
    "    </tr>\n",
    "    <tr>\n",
    "        <td>1</td>\n",
    "        <td>70</td>\n",
    "        <td>76</td>\n",
    "        <td>82</td>\n",
    "        <td>90</td>\n",
    "    </tr>\n",
    "    <tr>\n",
    "        <td>2</td>\n",
    "        <td>62</td>\n",
    "        <td>78</td>\n",
    "        <td>88</td>\n",
    "        <td>94</td>\n",
    "    </tr>\n",
    "    <tr>\n",
    "        <td>3</td>\n",
    "        <td>76</td>\n",
    "        <td>68</td>\n",
    "        <td>78</td>\n",
    "        <td>92</td>\n",
    "    </tr>\n",
    "</table>\n",
    "\n",
    " \n",
    "We have the weight of potato under each column. Let’s begin.\n",
    " \n",
    "Under a one-way ANOVA we have a null hypothesis. The null hypothesis is that the mean of each column is nearly the same, i.e\n",
    " \n",
    "mean(WP1) = mean(WP2) = mean(WP3) = mean(WP4)\n",
    "\n",
    "where WPi = Watering plan i.\n",
    " \n",
    "This, in turn, implies that the weight of potato doesn’t depend on the treatment by water. \n",
    " \n",
    "The alternate hypothesis Ha is that the means aren’t the same, and hence the watering plan does affect the weight of the potato.\n",
    "\n",
    "Next, we need to decide the significance level. The standard is 0.01, 0.05 or 0.1 i.e 1%, 5% and 10% respectively. We will assume a significance level of 10% for our case.  The total variance is given by:\n",
    "\n",
    "**SST (Sum Of Squares Total)  = SSB (Sum Of Squares Between) + SSW (Sum Of Squares Within)**\n",
    " "
   ]
  },
  {
   "cell_type": "markdown",
   "metadata": {},
   "source": [
    "# Load Data"
   ]
  },
  {
   "cell_type": "code",
   "execution_count": 1,
   "metadata": {
    "collapsed": true
   },
   "outputs": [],
   "source": [
    "exp_design <- read.csv('design.csv')"
   ]
  },
  {
   "cell_type": "code",
   "execution_count": 2,
   "metadata": {
    "collapsed": false
   },
   "outputs": [
    {
     "data": {
      "text/html": [
       "<table>\n",
       "<thead><tr><th scope=col>SampleNumber</th><th scope=col>Treatment</th><th scope=col>Weight</th></tr></thead>\n",
       "<tbody>\n",
       "\t<tr><td>S1 </td><td>2  </td><td>76 </td></tr>\n",
       "\t<tr><td>S2 </td><td>4  </td><td>94 </td></tr>\n",
       "\t<tr><td>S3 </td><td>1  </td><td>70 </td></tr>\n",
       "\t<tr><td>S4 </td><td>2  </td><td>78 </td></tr>\n",
       "\t<tr><td>S5 </td><td>3  </td><td>82 </td></tr>\n",
       "\t<tr><td>S6 </td><td>1  </td><td>62 </td></tr>\n",
       "\t<tr><td>S7 </td><td>3  </td><td>88 </td></tr>\n",
       "\t<tr><td>S8 </td><td>4  </td><td>90 </td></tr>\n",
       "\t<tr><td>S9 </td><td>2  </td><td>68 </td></tr>\n",
       "\t<tr><td>S10</td><td>1  </td><td>76 </td></tr>\n",
       "\t<tr><td>S11</td><td>3  </td><td>78 </td></tr>\n",
       "\t<tr><td>S12</td><td>4  </td><td>92 </td></tr>\n",
       "</tbody>\n",
       "</table>\n"
      ],
      "text/latex": [
       "\\begin{tabular}{r|lll}\n",
       " SampleNumber & Treatment & Weight\\\\\n",
       "\\hline\n",
       "\t S1  & 2   & 76 \\\\\n",
       "\t S2  & 4   & 94 \\\\\n",
       "\t S3  & 1   & 70 \\\\\n",
       "\t S4  & 2   & 78 \\\\\n",
       "\t S5  & 3   & 82 \\\\\n",
       "\t S6  & 1   & 62 \\\\\n",
       "\t S7  & 3   & 88 \\\\\n",
       "\t S8  & 4   & 90 \\\\\n",
       "\t S9  & 2   & 68 \\\\\n",
       "\t S10 & 1   & 76 \\\\\n",
       "\t S11 & 3   & 78 \\\\\n",
       "\t S12 & 4   & 92 \\\\\n",
       "\\end{tabular}\n"
      ],
      "text/markdown": [
       "\n",
       "SampleNumber | Treatment | Weight | \n",
       "|---|---|---|---|---|---|---|---|---|---|---|---|\n",
       "| S1  | 2   | 76  | \n",
       "| S2  | 4   | 94  | \n",
       "| S3  | 1   | 70  | \n",
       "| S4  | 2   | 78  | \n",
       "| S5  | 3   | 82  | \n",
       "| S6  | 1   | 62  | \n",
       "| S7  | 3   | 88  | \n",
       "| S8  | 4   | 90  | \n",
       "| S9  | 2   | 68  | \n",
       "| S10 | 1   | 76  | \n",
       "| S11 | 3   | 78  | \n",
       "| S12 | 4   | 92  | \n",
       "\n",
       "\n"
      ],
      "text/plain": [
       "   SampleNumber Treatment Weight\n",
       "1  S1           2         76    \n",
       "2  S2           4         94    \n",
       "3  S3           1         70    \n",
       "4  S4           2         78    \n",
       "5  S5           3         82    \n",
       "6  S6           1         62    \n",
       "7  S7           3         88    \n",
       "8  S8           4         90    \n",
       "9  S9           2         68    \n",
       "10 S10          1         76    \n",
       "11 S11          3         78    \n",
       "12 S12          4         92    "
      ]
     },
     "metadata": {},
     "output_type": "display_data"
    }
   ],
   "source": [
    "exp_design"
   ]
  },
  {
   "cell_type": "code",
   "execution_count": 21,
   "metadata": {
    "collapsed": true
   },
   "outputs": [],
   "source": [
    "exp_design$Treatment <- as.factor(exp_design$Treatment)"
   ]
  },
  {
   "cell_type": "markdown",
   "metadata": {},
   "source": [
    "# Run Anova"
   ]
  },
  {
   "cell_type": "code",
   "execution_count": 23,
   "metadata": {
    "collapsed": true
   },
   "outputs": [],
   "source": [
    "patato.aov <- aov(Weight ~ Treatment, data=exp_design)"
   ]
  },
  {
   "cell_type": "markdown",
   "metadata": {},
   "source": [
    "# Anova Summary"
   ]
  },
  {
   "cell_type": "code",
   "execution_count": 8,
   "metadata": {
    "collapsed": false
   },
   "outputs": [
    {
     "data": {
      "text/plain": [
       "            Df Sum Sq Mean Sq F value  Pr(>F)   \n",
       "Treatment    3  899.7  299.89   11.25 0.00306 **\n",
       "Residuals    8  213.3   26.67                   \n",
       "---\n",
       "Signif. codes:  0 '***' 0.001 '**' 0.01 '*' 0.05 '.' 0.1 ' ' 1"
      ]
     },
     "metadata": {},
     "output_type": "display_data"
    }
   ],
   "source": [
    "summary(patato.aov)"
   ]
  },
  {
   "cell_type": "code",
   "execution_count": 24,
   "metadata": {
    "collapsed": false
   },
   "outputs": [
    {
     "data": {
      "text/html": [
       "2.92379628831378"
      ],
      "text/latex": [
       "2.92379628831378"
      ],
      "text/markdown": [
       "2.92379628831378"
      ],
      "text/plain": [
       "[1] 2.923796"
      ]
     },
     "metadata": {},
     "output_type": "display_data"
    }
   ],
   "source": [
    "qf(.90,3,8)"
   ]
  },
  {
   "cell_type": "markdown",
   "metadata": {},
   "source": [
    "# Conclusion"
   ]
  },
  {
   "cell_type": "markdown",
   "metadata": {},
   "source": [
    " Since 11.26 is greater than 2.92, it is highly unlikely for this to happen under the null hypothesis.\n",
    " \n",
    " Hence we reject the null hypothesis and conclude that water treatment has a significant effect on the weight of the potatoes.\n",
    " \n",
    " Note:Residuals under the ANOVA table in R refers to SSW i.e Sum of Squares Within."
   ]
  },
  {
   "cell_type": "markdown",
   "metadata": {},
   "source": [
    "# Post Hoc Tests"
   ]
  },
  {
   "cell_type": "markdown",
   "metadata": {},
   "source": [
    "After ANOVA, we aren't sure what exact group is responsible for the rejection of the null hypotheses. For that, we use the Post Hoc tests. Post hoc tests are tests that are run to explore the differences between pairs of means and provide specific information on which means are significantly different from each other.\n",
    "\n",
    "In this example, we need to identify the difference in means of weights between each watering plan. The post hoc test will help us identify the difference in means between pairs for e.g., 1-2, 2-3, 3-4, etc. This gives us an idea of identifying whether the difference is similar throughout or whether there is only one group that has a huge difference in means leading to the rejection of the null hypothesis."
   ]
  },
  {
   "cell_type": "markdown",
   "metadata": {},
   "source": [
    "The various post hoc tests are the LSD test (Least Significant Difference), Tukey's HSD test and Scheffe's test. In this case, the post hoc test we will be using is TukeyHSD. Let’s see how it works.\n"
   ]
  },
  {
   "cell_type": "code",
   "execution_count": 25,
   "metadata": {
    "collapsed": false
   },
   "outputs": [
    {
     "name": "stderr",
     "output_type": "stream",
     "text": [
      "Installing package into 'C:/Users/vikas/Documents/R/win-library/3.3'\n",
      "(as 'lib' is unspecified)\n"
     ]
    },
    {
     "name": "stdout",
     "output_type": "stream",
     "text": [
      "package 'TukeyC' successfully unpacked and MD5 sums checked\n",
      "\n",
      "The downloaded binary packages are in\n",
      "\tC:\\Users\\vikas\\AppData\\Local\\Temp\\RtmpgF9nT7\\downloaded_packages\n"
     ]
    }
   ],
   "source": [
    "install.packages('TukeyC',repos = 'https://cran.r-project.org/')"
   ]
  },
  {
   "cell_type": "code",
   "execution_count": 26,
   "metadata": {
    "collapsed": true
   },
   "outputs": [],
   "source": [
    "library(TukeyC)"
   ]
  },
  {
   "cell_type": "code",
   "execution_count": 31,
   "metadata": {
    "collapsed": false
   },
   "outputs": [
    {
     "data": {
      "text/plain": [
       "  Tukey multiple comparisons of means\n",
       "    95% family-wise confidence level\n",
       "\n",
       "Fit: aov(formula = Weight ~ Treatment, data = exp_design)\n",
       "\n",
       "$Treatment\n",
       "         diff        lwr      upr     p adj\n",
       "2-1  4.666667 -8.8356349 18.16897 0.6956822\n",
       "3-1 13.333333 -0.1689683 26.83563 0.0529020\n",
       "4-1 22.666667  9.1643651 36.16897 0.0029508\n",
       "3-2  8.666667 -4.8356349 22.16897 0.2456633\n",
       "4-2 18.000000  4.4976984 31.50230 0.0116573\n",
       "4-3  9.333333 -4.1689683 22.83563 0.1991048\n"
      ]
     },
     "metadata": {},
     "output_type": "display_data"
    }
   ],
   "source": [
    "TukeyHSD(patato.aov)"
   ]
  },
  {
   "cell_type": "markdown",
   "metadata": {},
   "source": [
    "## Conclusion\n",
    "\n",
    "You need to only check the diff column for highest value\n",
    "You can see that 4-1 (mean difference between waterlevels) has diff value of 22.666 that is higher so:\n",
    "* 4-1:(22.66) you can say that Watering plan 4 will give you heavy weight patatos from watering plan 1\n",
    "* 4-2:(18) you can say that Watering plan 4 will give you heavy weight patatos from watering plan 3\n",
    "\n",
    "So plan 4 should be a promising option to look for, You can also look for adj p value\n",
    "\n"
   ]
  },
  {
   "cell_type": "code",
   "execution_count": 29,
   "metadata": {
    "collapsed": false
   },
   "outputs": [
    {
     "data": {
      "image/png": "[encoded data removed]",
      "text/plain": [
       "Plot with title \"95% family-wise confidence level\n",
       "\""
      ]
     },
     "metadata": {},
     "output_type": "display_data"
    }
   ],
   "source": [
    "plot(TukeyHSD(patato.aov))"
   ]
  }
 ],
 "metadata": {
  "anaconda-cloud": {},
  "kernelspec": {
   "display_name": "R",
   "language": "R",
   "name": "ir"
  },
  "language_info": {
   "codemirror_mode": "r",
   "file_extension": ".r",
   "mimetype": "text/x-r-source",
   "name": "R",
   "pygments_lexer": "r",
   "version": "3.3.2"
  }
 },
 "nbformat": 4,
 "nbformat_minor": 2
}
